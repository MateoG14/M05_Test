{
 "cells": [
  {
   "cell_type": "code",
   "execution_count": 3,
   "id": "41019ac5",
   "metadata": {},
   "outputs": [],
   "source": [
    "At the end of the results of the test it is concluded that  one of the two test passes while the other one fails \n"
   ]
  }
 ],
 "metadata": {
  "kernelspec": {
   "display_name": "Python 3 (ipykernel)",
   "language": "python",
   "name": "python3"
  },
  "language_info": {
   "codemirror_mode": {
    "name": "ipython",
    "version": 3
   },
   "file_extension": ".py",
   "mimetype": "text/x-python",
   "name": "python",
   "nbconvert_exporter": "python",
   "pygments_lexer": "ipython3",
   "version": "3.9.12"
  }
 },
 "nbformat": 4,
 "nbformat_minor": 5
}
